{
 "cells": [
  {
   "cell_type": "code",
   "execution_count": 2,
   "id": "0dfbf294",
   "metadata": {},
   "outputs": [],
   "source": [
    "from secret_key import key\n",
    "import os\n",
    "os.environ['GROQ_API_KEY']=key"
   ]
  },
  {
   "cell_type": "code",
   "execution_count": 3,
   "id": "d3ec3feb",
   "metadata": {},
   "outputs": [],
   "source": [
    "from langchain_groq import ChatGroq"
   ]
  },
  {
   "cell_type": "code",
   "execution_count": null,
   "id": "9294127d",
   "metadata": {},
   "outputs": [],
   "source": [
    "llm=ChatGroq(temperature=0.6,model='openai/gpt-oss-120b')\n",
    "#temp=0 safe, 1->risk and creative but maybe wrong"
   ]
  },
  {
   "cell_type": "code",
   "execution_count": 8,
   "id": "f2c4ba6a",
   "metadata": {},
   "outputs": [],
   "source": [
    "name=llm.invoke(\"I want to open a restaurant for Bangladeshi food. Suggest me a single fency name for this\")"
   ]
  },
  {
   "cell_type": "code",
   "execution_count": 10,
   "id": "8635331c",
   "metadata": {},
   "outputs": [
    {
     "data": {
      "text/plain": [
       "'**Bengal Bounty**'"
      ]
     },
     "execution_count": 10,
     "metadata": {},
     "output_type": "execute_result"
    }
   ],
   "source": [
    "name.content"
   ]
  },
  {
   "cell_type": "code",
   "execution_count": 13,
   "id": "31dbac4e",
   "metadata": {},
   "outputs": [],
   "source": [
    "from langchain.prompts import PromptTemplate\n",
    "prompt_template=PromptTemplate(\n",
    "    input_variables=['cuisine'],\n",
    "    template=\"I want to open a restaurant for {cuisine} food. Suggest me a single fency name for this\"\n",
    ")\n",
    "\n",
    "#prompt_template.format(cuisine=\"Italian\")"
   ]
  },
  {
   "cell_type": "code",
   "execution_count": 14,
   "id": "1c0ec892",
   "metadata": {},
   "outputs": [
    {
     "data": {
      "text/plain": [
       "'**Liberty Hearth**'"
      ]
     },
     "execution_count": 14,
     "metadata": {},
     "output_type": "execute_result"
    }
   ],
   "source": [
    "from langchain.chains import LLMChain\n",
    "chain=LLMChain(llm=llm,prompt=prompt_template)\n",
    "chain.run(\"American\")"
   ]
  },
  {
   "cell_type": "code",
   "execution_count": 20,
   "id": "05321e88",
   "metadata": {},
   "outputs": [],
   "source": [
    "prompt_template=PromptTemplate(\n",
    "    input_variables=['cuisine'],\n",
    "    template=\"I want to open a restaurant for {cuisine} food. Suggest me a single fency name for this\"\n",
    ")\n",
    "name_chain=LLMChain(llm=llm,prompt=prompt_template)\n",
    "\n",
    "prompt_template=PromptTemplate(\n",
    "    input_variables=['restaurant_name'],\n",
    "    template=\"Suggest me some menu items for {restaurant}. Return it as a comma separated list.\"\n",
    ")\n",
    "food_chain=LLMChain(llm=llm,prompt=prompt_template)\n",
    "\n"
   ]
  },
  {
   "cell_type": "code",
   "execution_count": null,
   "id": "993da592",
   "metadata": {},
   "outputs": [],
   "source": [
    "from langchain.chains import SimpleSequentialChain\n",
    "chain=SimpleSequentialChain(chains=[name_chain,food_chain])\n",
    "\n",
    "response=chain.run(\"Bangladesh\") "
   ]
  },
  {
   "cell_type": "code",
   "execution_count": null,
   "id": "d257011d",
   "metadata": {},
   "outputs": [
    {
     "data": {
      "text/plain": [
       "'Bengali Fish Curry, Macher Jhol (Fish Stew), Shorshe Ilish (Hilsa in Mustard Sauce), Chingri Malai Curry (Prawn Coconut Curry), Aloo Posto (Potatoes in Poppy Seed Paste), Begun Bhaja (Crispy Eggplant), Dalma (Lentil & Vegetable Stew), Kosha Mangsho (Spicy Slow-Cooked Mutton), Chicken Chaap, Kolkata Biryani, Mishti Doi (Sweet Yogurt), Rosogolla, Sandesh, Mishti Pulao (Sweet Rice Pilaf), Ghee Roast Lamb Chops, Paturi (Fish Wrapped in Banana Leaves), Puchka (Pani Puri), Aloo Dum (Spicy Potato Gravy), Paneer Bhurji, Kachori, Litti Chokha.'"
      ]
     },
     "execution_count": 22,
     "metadata": {},
     "output_type": "execute_result"
    }
   ],
   "source": [
    "response #simplesequential chain provides only final output,not intermediate"
   ]
  },
  {
   "cell_type": "code",
   "execution_count": 29,
   "id": "ed3dde02",
   "metadata": {},
   "outputs": [],
   "source": [
    "prompt_template=PromptTemplate(\n",
    "    input_variables=['cuisine'],\n",
    "    template=\"I want to open a restaurant for {cuisine} food. Suggest me a single fency name for this\"\n",
    ")\n",
    "name_chain=LLMChain(llm=llm,prompt=prompt_template,output_key=\"restaurant_name\")\n",
    "\n",
    "prompt_template=PromptTemplate(\n",
    "    input_variables=['restaurant_name'],\n",
    "    template=\"Suggest me some menu items for {restaurant_name}. Return it as a comma separated list.\"\n",
    ")\n",
    "food_chain=LLMChain(llm=llm,prompt=prompt_template,output_key=\"menu_items\")"
   ]
  },
  {
   "cell_type": "code",
   "execution_count": 32,
   "id": "a174ec59",
   "metadata": {},
   "outputs": [],
   "source": [
    "from langchain.chains import SequentialChain\n",
    "final_chain=SequentialChain(\n",
    "    chains=[name_chain,food_chain],\n",
    "    input_variables=[\"cuisine\"],\n",
    "    output_variables=['restaurant_name','menu_items']\n",
    ")"
   ]
  },
  {
   "cell_type": "code",
   "execution_count": 33,
   "id": "9e0dd3eb",
   "metadata": {},
   "outputs": [
    {
     "data": {
      "text/plain": [
       "{'cuisine': 'Arabic',\n",
       " 'restaurant_name': '**\"Saffron Souk\"**',\n",
       " 'menu_items': \"Saffron-infused Lamb Kebabs, Rosewater Pistachio Baklava, Cardamom-Spiced Chickpea Hummus, Turmeric Roasted Cauliflower, Harissa Grilled Chicken, Saffron Risotto with Seared Scallops, Spiced Lamb Tagine with Apricots, Persian Herb and Feta Flatbread, Zaatar Roasted Eggplant, Saffron Coconut Rice Pudding, Pomegranate Molasses Glazed Salmon, Moroccan Spiced Sweet Potato Fries, Sumac Lemon Chicken Skewers, Fig and Goat Cheese Stuffed Dates, Rose & Saffron Lassi, Harissa Lamb Meatballs, Saffron and Almond Halva, Spiced Lentil Soup with Lemon, Za'atar Spiced Lamb Shawarma, Cardamom Orange Blossom Tea.\"}"
      ]
     },
     "execution_count": 33,
     "metadata": {},
     "output_type": "execute_result"
    }
   ],
   "source": [
    "final_chain({'cuisine':\"Arabic\"})"
   ]
  }
 ],
 "metadata": {
  "kernelspec": {
   "display_name": "Python 3",
   "language": "python",
   "name": "python3"
  },
  "language_info": {
   "codemirror_mode": {
    "name": "ipython",
    "version": 3
   },
   "file_extension": ".py",
   "mimetype": "text/x-python",
   "name": "python",
   "nbconvert_exporter": "python",
   "pygments_lexer": "ipython3",
   "version": "3.12.6"
  }
 },
 "nbformat": 4,
 "nbformat_minor": 5
}
